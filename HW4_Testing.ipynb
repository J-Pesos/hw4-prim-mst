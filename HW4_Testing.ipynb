{
 "cells": [
  {
   "cell_type": "code",
   "execution_count": 13,
   "id": "9b66e160",
   "metadata": {},
   "outputs": [
    {
     "name": "stdout",
     "output_type": "stream",
     "text": [
      "The autoreload extension is already loaded. To reload it, use:\n",
      "  %reload_ext autoreload\n"
     ]
    }
   ],
   "source": [
    "%load_ext autoreload\n",
    "%autoreload"
   ]
  },
  {
   "cell_type": "code",
   "execution_count": 14,
   "id": "65bf3f2d",
   "metadata": {},
   "outputs": [],
   "source": [
    "from mst import Graph\n",
    "import numpy as np\n",
    "import heapq as hq\n",
    "import networkx as nx\n",
    "import random"
   ]
  },
  {
   "cell_type": "code",
   "execution_count": 15,
   "id": "a311b8fb",
   "metadata": {
    "scrolled": true
   },
   "outputs": [
    {
     "data": {
      "text/plain": [
       "array([[0., 5., 0., 5.],\n",
       "       [5., 0., 1., 2.],\n",
       "       [0., 1., 0., 4.],\n",
       "       [5., 2., 4., 0.]])"
      ]
     },
     "execution_count": 15,
     "metadata": {},
     "output_type": "execute_result"
    }
   ],
   "source": [
    "G = Graph('data/small.csv') # Assign graph object.\n",
    "G.adj_mat # Create numpy array of floats from adjacency matrix."
   ]
  },
  {
   "cell_type": "code",
   "execution_count": 16,
   "id": "77b01da1",
   "metadata": {
    "scrolled": true
   },
   "outputs": [
    {
     "data": {
      "text/plain": [
       "(array([0, 0, 1, 2, 2, 3]), array([0, 2, 1, 0, 2, 3]))"
      ]
     },
     "execution_count": 16,
     "metadata": {},
     "output_type": "execute_result"
    }
   ],
   "source": [
    "np.where(G.adj_mat == 0) # Find pairs of vertices that are not connected."
   ]
  },
  {
   "cell_type": "code",
   "execution_count": 17,
   "id": "4baba0ea",
   "metadata": {},
   "outputs": [
    {
     "data": {
      "text/plain": [
       "6"
      ]
     },
     "execution_count": 17,
     "metadata": {},
     "output_type": "execute_result"
    }
   ],
   "source": [
    "len(np.where(G.adj_mat == 0)[0]) # How many instances of no edges exist."
   ]
  },
  {
   "cell_type": "code",
   "execution_count": 18,
   "id": "972e98c1",
   "metadata": {
    "scrolled": true
   },
   "outputs": [
    {
     "data": {
      "text/plain": [
       "{(0, 1): Text(0.01068780401938177, -0.6056228098972345, '5.0'),\n",
       " (0, 3): Text(-0.3469127659951966, -0.2451949409023484, '5.0'),\n",
       " (1, 0): Text(0.01068780401938177, -0.6056228098972345, '5.0'),\n",
       " (1, 2): Text(0.34691276599519694, 0.24519494090234834, '1.0'),\n",
       " (1, 3): Text(0.06602738052623161, -0.14918224920041723, '2.0'),\n",
       " (2, 1): Text(0.34691276599519694, 0.24519494090234834, '1.0'),\n",
       " (2, 3): Text(-0.010687804019381436, 0.6056228098972345, '4.0'),\n",
       " (3, 0): Text(-0.3469127659951966, -0.2451949409023484, '5.0'),\n",
       " (3, 1): Text(0.06602738052623161, -0.14918224920041723, '2.0'),\n",
       " (3, 2): Text(-0.010687804019381436, 0.6056228098972345, '4.0')}"
      ]
     },
     "execution_count": 18,
     "metadata": {},
     "output_type": "execute_result"
    },
    {
     "data": {
      "image/png": "[encoded data removed]",
      "text/plain": [
       "<Figure size 640x480 with 1 Axes>"
      ]
     },
     "metadata": {},
     "output_type": "display_data"
    }
   ],
   "source": [
    "matrix = np.matrix(G.adj_mat) # Create numpy matrix from adjacency matrix.\n",
    "G2 = nx.from_numpy_array(matrix, create_using=nx.DiGraph)\n",
    "layout = nx.spring_layout(G2) # Creates force-directed representation of network for visualization.\n",
    "nx.draw_networkx(G2, layout) # Draws network.\n",
    "\n",
    "labels = nx.get_edge_attributes(G2, 'weight')\n",
    "nx.draw_networkx_edge_labels(G2, pos = layout, edge_labels = labels) # Show edge weight labels on visualization."
   ]
  },
  {
   "cell_type": "code",
   "execution_count": 19,
   "id": "bf04c762",
   "metadata": {},
   "outputs": [
    {
     "data": {
      "text/plain": [
       "4"
      ]
     },
     "execution_count": 19,
     "metadata": {},
     "output_type": "execute_result"
    }
   ],
   "source": [
    "vertices = np.shape(G.adj_mat)[0] # How many vertices are in the network.\n",
    "vertices"
   ]
  },
  {
   "cell_type": "code",
   "execution_count": 20,
   "id": "edb4e841",
   "metadata": {},
   "outputs": [
    {
     "name": "stdout",
     "output_type": "stream",
     "text": [
      "5.0\n",
      "5.0\n",
      "0.0\n",
      "1.0\n",
      "5.0 0 1\n"
     ]
    }
   ],
   "source": [
    "G = G.adj_mat\n",
    "# Printing edge weights for different edges.\n",
    "print(G[0,1])\n",
    "print(G[0,3])\n",
    "print(G[0,2])\n",
    "print(G[1,2])\n",
    "print(G[0,1], 0, 1)"
   ]
  },
  {
   "cell_type": "code",
   "execution_count": 21,
   "id": "8609939b",
   "metadata": {},
   "outputs": [
    {
     "name": "stdout",
     "output_type": "stream",
     "text": [
      "[2]\n",
      "[(1.0, 2, 1), (4.0, 2, 3)]\n"
     ]
    }
   ],
   "source": [
    "visited = [] # Initialize list of visited vertices.\n",
    "start = random.choice(range(0, vertices)) # Select a random start vertex in network.\n",
    "priority_queue = [] # Initialize priority queue.\n",
    "\n",
    "for vertex in range(vertices): # Loop through all vertex indices.\n",
    "    if G[start, vertex] != 0: # If edge exists.\n",
    "        priority_queue.append((G[start, vertex], start, vertex)) # Append edge and edge weight to priority queue.\n",
    "visited.append(start) # Append visited vertex.\n",
    "hq.heapify(priority_queue) # Turn into heap queue.\n",
    "\n",
    "print(visited)\n",
    "print(priority_queue)"
   ]
  },
  {
   "cell_type": "code",
   "execution_count": 22,
   "id": "8c5a257f",
   "metadata": {},
   "outputs": [
    {
     "name": "stdout",
     "output_type": "stream",
     "text": [
      "[(1.0, 2, 1), (4.0, 2, 3), (5.0, 0, 1)]\n"
     ]
    }
   ],
   "source": [
    "hq.heappush(priority_queue, (G[0,1], 0, 1)) # Push edge and edge weight into heap queue maintaining heap invariant.\n",
    "print(priority_queue)"
   ]
  },
  {
   "cell_type": "code",
   "execution_count": 23,
   "id": "48ea2f3b",
   "metadata": {},
   "outputs": [
    {
     "data": {
      "text/plain": [
       "array([[0., 0., 0., 0.],\n",
       "       [0., 0., 0., 0.],\n",
       "       [0., 0., 0., 0.],\n",
       "       [0., 0., 0., 0.]])"
      ]
     },
     "execution_count": 23,
     "metadata": {},
     "output_type": "execute_result"
    }
   ],
   "source": [
    "MST = np.zeros(G.shape) # Initialize minimum-spanning tree array of same size as original.\n",
    "MST"
   ]
  },
  {
   "cell_type": "code",
   "execution_count": 24,
   "id": "ac69a743",
   "metadata": {
    "scrolled": true
   },
   "outputs": [
    {
     "data": {
      "text/plain": [
       "array([[0., 5., 0., 0.],\n",
       "       [5., 0., 1., 2.],\n",
       "       [0., 1., 0., 0.],\n",
       "       [0., 2., 0., 0.]])"
      ]
     },
     "execution_count": 24,
     "metadata": {},
     "output_type": "execute_result"
    }
   ],
   "source": [
    "vertices = np.shape(G)[0]\n",
    "start = random.choice(range(0, vertices))\n",
    "priority_queue = []\n",
    "MST = np.zeros(G.shape)\n",
    "visited = []\n",
    "\n",
    "for vertex in range(vertices):\n",
    "    if G[start, vertex] != 0:\n",
    "        priority_queue.append((G[start, vertex], start, vertex))\n",
    "\n",
    "visited.append(start)\n",
    "\n",
    "hq.heapify(priority_queue)\n",
    "\n",
    "while len(visited) != vertices: # While length of visited vertices is less than total amount.\n",
    "    edge_weight, start, end = hq.heappop(priority_queue) # Pop and return smallest edge and edge weight from heapqueue, maintaing heap invariant.\n",
    "    if end not in visited: # If end vertex has not yet been visited.\n",
    "        MST[start, end] = edge_weight # Add edge and edge weight to MST.\n",
    "        MST[end, start] = edge_weight\n",
    "        visited.append(end) # Add end vertex to visited.\n",
    "        \n",
    "        for vertex in range(vertices): # Add new destinations from end vertex into priority queue.\n",
    "            if G[end, vertex] != 0:\n",
    "                hq.heappush(priority_queue, (G[end, vertex], end, vertex))\n",
    "                \n",
    "MST"
   ]
  },
  {
   "cell_type": "code",
   "execution_count": 27,
   "id": "9c341c21",
   "metadata": {},
   "outputs": [
    {
     "data": {
      "text/plain": [
       "{(0, 1): Text(-0.23115768809074103, 0.33617527396365626, '5.0'),\n",
       " (1, 0): Text(-0.23115768809074103, 0.33617527396365626, '5.0'),\n",
       " (1, 2): Text(-0.203341974751604, -0.44290614509371384, '1.0'),\n",
       " (1, 3): Text(0.4232327832411567, 0.22091858094263006, '2.0'),\n",
       " (2, 1): Text(-0.203341974751604, -0.44290614509371384, '1.0'),\n",
       " (3, 1): Text(0.4232327832411567, 0.22091858094263006, '2.0')}"
      ]
     },
     "execution_count": 27,
     "metadata": {},
     "output_type": "execute_result"
    },
    {
     "data": {
      "image/png": "[encoded data removed]",
      "text/plain": [
       "<Figure size 640x480 with 1 Axes>"
      ]
     },
     "metadata": {},
     "output_type": "display_data"
    }
   ],
   "source": [
    "MST2 = nx.from_numpy_array(MST, create_using=nx.DiGraph)\n",
    "layout2 = nx.spring_layout(MST2) # Creates force-directed representation of network for visualization.\n",
    "nx.draw_networkx(MST2, layout2) # Draws network.\n",
    "\n",
    "labels2 = nx.get_edge_attributes(MST2, 'weight')\n",
    "nx.draw_networkx_edge_labels(MST2, pos = layout2, edge_labels = labels2) # Show edge weight labels on visualization."
   ]
  }
 ],
 "metadata": {
  "kernelspec": {
   "display_name": "Python 3 (ipykernel)",
   "language": "python",
   "name": "python3"
  },
  "language_info": {
   "codemirror_mode": {
    "name": "ipython",
    "version": 3
   },
   "file_extension": ".py",
   "mimetype": "text/x-python",
   "name": "python",
   "nbconvert_exporter": "python",
   "pygments_lexer": "ipython3",
   "version": "3.10.9"
  }
 },
 "nbformat": 4,
 "nbformat_minor": 5
}
