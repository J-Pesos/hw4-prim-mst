{
 "cells": [
  {
   "cell_type": "code",
   "execution_count": 5,
   "id": "9b66e160",
   "metadata": {},
   "outputs": [],
   "source": [
    "%load_ext autoreload\n",
    "%autoreload"
   ]
  },
  {
   "cell_type": "code",
   "execution_count": 6,
   "id": "65bf3f2d",
   "metadata": {},
   "outputs": [],
   "source": [
    "from mst import Graph\n",
    "import numpy as np\n",
    "import heapq as hq\n",
    "import networkx as nx\n",
    "import random"
   ]
  },
  {
   "cell_type": "code",
   "execution_count": 7,
   "id": "a311b8fb",
   "metadata": {
    "scrolled": true
   },
   "outputs": [
    {
     "data": {
      "text/plain": [
       "array([[0., 5., 0., 5.],\n",
       "       [5., 0., 1., 2.],\n",
       "       [0., 1., 0., 4.],\n",
       "       [5., 2., 4., 0.]])"
      ]
     },
     "execution_count": 7,
     "metadata": {},
     "output_type": "execute_result"
    }
   ],
   "source": [
    "G = Graph('data/small.csv') # Assign graph object.\n",
    "G.adj_mat # Create numpy array of floats from adjacency matrix."
   ]
  },
  {
   "cell_type": "code",
   "execution_count": 8,
   "id": "77b01da1",
   "metadata": {
    "scrolled": true
   },
   "outputs": [
    {
     "data": {
      "text/plain": [
       "(array([0, 0, 1, 2, 2, 3]), array([0, 2, 1, 0, 2, 3]))"
      ]
     },
     "execution_count": 8,
     "metadata": {},
     "output_type": "execute_result"
    }
   ],
   "source": [
    "np.where(G.adj_mat == 0) # Find pairs of vertices that are not connected."
   ]
  },
  {
   "cell_type": "code",
   "execution_count": 9,
   "id": "4baba0ea",
   "metadata": {},
   "outputs": [
    {
     "data": {
      "text/plain": [
       "6"
      ]
     },
     "execution_count": 9,
     "metadata": {},
     "output_type": "execute_result"
    }
   ],
   "source": [
    "len(np.where(G.adj_mat == 0)[0]) # How many instances of no edges exist."
   ]
  },
  {
   "cell_type": "code",
   "execution_count": 10,
   "id": "972e98c1",
   "metadata": {
    "scrolled": true
   },
   "outputs": [
    {
     "data": {
      "text/plain": [
       "{(0, 1): Text(0.09102153604599081, 0.5802131003037594, '5.0'),\n",
       " (0, 3): Text(-0.2992909965527959, 0.2840892927493299, '5.0'),\n",
       " (1, 0): Text(0.09102153604599081, 0.5802131003037594, '5.0'),\n",
       " (1, 2): Text(0.29929099655279584, -0.28408929274933004, '1.0'),\n",
       " (1, 3): Text(0.08238812106728943, 0.13569760694691052, '2.0'),\n",
       " (2, 1): Text(0.29929099655279584, -0.28408929274933004, '1.0'),\n",
       " (2, 3): Text(-0.09102153604599089, -0.5802131003037595, '4.0'),\n",
       " (3, 0): Text(-0.2992909965527959, 0.2840892927493299, '5.0'),\n",
       " (3, 1): Text(0.08238812106728943, 0.13569760694691052, '2.0'),\n",
       " (3, 2): Text(-0.09102153604599089, -0.5802131003037595, '4.0')}"
      ]
     },
     "execution_count": 10,
     "metadata": {},
     "output_type": "execute_result"
    },
    {
     "data": {
      "image/png": "[encoded data removed]",
      "text/plain": [
       "<Figure size 640x480 with 1 Axes>"
      ]
     },
     "metadata": {},
     "output_type": "display_data"
    }
   ],
   "source": [
    "matrix = np.matrix(G.adj_mat) # Create numpy matrix from adjacency matrix.\n",
    "G2 = nx.from_numpy_array(matrix, create_using=nx.DiGraph)\n",
    "layout = nx.spring_layout(G2) # Creates force-directed representation of network for visualization.\n",
    "nx.draw_networkx(G2, layout) # Draws network.\n",
    "\n",
    "labels = nx.get_edge_attributes(G2, 'weight')\n",
    "nx.draw_networkx_edge_labels(G2, pos = layout, edge_labels = labels) # Show edge weight labels on visualization."
   ]
  },
  {
   "cell_type": "code",
   "execution_count": 11,
   "id": "bf04c762",
   "metadata": {},
   "outputs": [
    {
     "data": {
      "text/plain": [
       "4"
      ]
     },
     "execution_count": 11,
     "metadata": {},
     "output_type": "execute_result"
    }
   ],
   "source": [
    "vertices = np.shape(G.adj_mat)[0] # How many vertices are in the network.\n",
    "vertices"
   ]
  },
  {
   "cell_type": "code",
   "execution_count": 12,
   "id": "edb4e841",
   "metadata": {},
   "outputs": [
    {
     "ename": "TypeError",
     "evalue": "'Graph' object is not subscriptable",
     "output_type": "error",
     "traceback": [
      "\u001b[0;31m---------------------------------------------------------------------------\u001b[0m",
      "\u001b[0;31mTypeError\u001b[0m                                 Traceback (most recent call last)",
      "Cell \u001b[0;32mIn[12], line 3\u001b[0m\n\u001b[1;32m      1\u001b[0m \u001b[38;5;66;03m#G = G.adj_mat\u001b[39;00m\n\u001b[1;32m      2\u001b[0m \u001b[38;5;66;03m# Printing edge weights for different edges.\u001b[39;00m\n\u001b[0;32m----> 3\u001b[0m \u001b[38;5;28mprint\u001b[39m(\u001b[43mG\u001b[49m\u001b[43m[\u001b[49m\u001b[38;5;241;43m0\u001b[39;49m\u001b[43m,\u001b[49m\u001b[38;5;241;43m1\u001b[39;49m\u001b[43m]\u001b[49m)\n\u001b[1;32m      4\u001b[0m \u001b[38;5;28mprint\u001b[39m(G[\u001b[38;5;241m0\u001b[39m,\u001b[38;5;241m3\u001b[39m])\n\u001b[1;32m      5\u001b[0m \u001b[38;5;28mprint\u001b[39m(G[\u001b[38;5;241m0\u001b[39m,\u001b[38;5;241m2\u001b[39m])\n",
      "\u001b[0;31mTypeError\u001b[0m: 'Graph' object is not subscriptable"
     ]
    }
   ],
   "source": [
    "G = G.adj_mat\n",
    "# Printing edge weights for different edges.\n",
    "print(G[0,1])\n",
    "print(G[0,3])\n",
    "print(G[0,2])\n",
    "print(G[1,2])\n",
    "print(G[0,1], 0, 1)"
   ]
  },
  {
   "cell_type": "code",
   "execution_count": null,
   "id": "8609939b",
   "metadata": {},
   "outputs": [],
   "source": [
    "visited = [] # Initialize list of visited vertices.\n",
    "start = random.choice(range(0, vertices)) # Select a random start vertex in network.\n",
    "priority_queue = [] # Initialize priority queue.\n",
    "\n",
    "for vertex in range(vertices): # Loop through all vertex indices.\n",
    "    if G[start, vertex] != 0: # If edge exists.\n",
    "        priority_queue.append((G[start, vertex], start, vertex)) # Append edge and edge weight to priority queue.\n",
    "visited.append(start) # Append visited vertex.\n",
    "hq.heapify(priority_queue) # Turn into heap queue.\n",
    "\n",
    "print(visited)\n",
    "print(priority_queue)"
   ]
  },
  {
   "cell_type": "code",
   "execution_count": null,
   "id": "8c5a257f",
   "metadata": {},
   "outputs": [],
   "source": [
    "hq.heappush(priority_queue, (G[0,1], 0, 1)) # Push edge and edge weight into heap queue maintaining heap invariant.\n",
    "print(priority_queue)"
   ]
  },
  {
   "cell_type": "code",
   "execution_count": null,
   "id": "48ea2f3b",
   "metadata": {},
   "outputs": [],
   "source": [
    "MST = np.zeros(G.shape) # Initialize minimum-spanning tree array of same size as original.\n",
    "MST"
   ]
  },
  {
   "cell_type": "code",
   "execution_count": null,
   "id": "ac69a743",
   "metadata": {
    "scrolled": true
   },
   "outputs": [],
   "source": [
    "vertices = np.shape(G)[0]\n",
    "start = random.choice(range(0, vertices))\n",
    "priority_queue = []\n",
    "MST = np.zeros(G.shape)\n",
    "visited = []\n",
    "\n",
    "for vertex in range(vertices):\n",
    "    if G[start, vertex] != 0:\n",
    "        priority_queue.append((G[start, vertex], start, vertex))\n",
    "\n",
    "visited.append(start)\n",
    "\n",
    "hq.heapify(priority_queue)\n",
    "\n",
    "while len(visited) != vertices: # While length of visited vertices is less than total amount.\n",
    "    edge_weight, start, end = hq.heappop(priority_queue) # Pop and return smallest edge and edge weight from heapqueue, maintaing heap invariant.\n",
    "    if end not in visited: # If end vertex has not yet been visited.\n",
    "        MST[start, end] = edge_weight # Add edge and edge weight to MST.\n",
    "        MST[end, start] = edge_weight\n",
    "        visited.append(end) # Add end vertex to visited.\n",
    "        \n",
    "        for vertex in range(vertices): # Add new destinations from end vertex into priority queue.\n",
    "            if G[end, vertex] != 0:\n",
    "                hq.heappush(priority_queue, (G[end, vertex], end, vertex))\n",
    "                \n",
    "MST"
   ]
  },
  {
   "cell_type": "code",
   "execution_count": null,
   "id": "cec24c2f",
   "metadata": {},
   "outputs": [],
   "source": [
    "matrix2 = np.matrix(MST.adj_mat) # Create numpy matrix from adjacency matrix.\n",
    "MST2 = nx.from_numpy_array(matrix2, create_using=nx.DiGraph)\n",
    "layout2 = nx.spring_layout(MST2) # Creates force-directed representation of network for visualization.\n",
    "nx.draw_networkx(MST2, layout2) # Draws network.\n",
    "\n",
    "labels2 = nx.get_edge_attributes(MST2, 'weight')\n",
    "nx.draw_networkx_edge_labels(MS2, pos = layout2, edge_labels = labels2) # Show edge weight labels on visualization."
   ]
  },
  {
   "cell_type": "code",
   "execution_count": null,
   "id": "0ce95142",
   "metadata": {},
   "outputs": [],
   "source": []
  }
 ],
 "metadata": {
  "kernelspec": {
   "display_name": "Python 3 (ipykernel)",
   "language": "python",
   "name": "python3"
  },
  "language_info": {
   "codemirror_mode": {
    "name": "ipython",
    "version": 3
   },
   "file_extension": ".py",
   "mimetype": "text/x-python",
   "name": "python",
   "nbconvert_exporter": "python",
   "pygments_lexer": "ipython3",
   "version": "3.10.9"
  }
 },
 "nbformat": 4,
 "nbformat_minor": 5
}
